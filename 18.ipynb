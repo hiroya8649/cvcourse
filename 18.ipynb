{
 "cells": [
  {
   "cell_type": "code",
   "execution_count": 1,
   "metadata": {},
   "outputs": [],
   "source": [
    "import cv2\n",
    "import numpy as np\n",
    "\n",
    "drawing = False\n",
    "ix, iy = -1, -1\n",
    "\n",
    "def draw_rectangle(event, x, y, flags, params):\n",
    "    global drawing, ix, iy\n",
    "    \n",
    "    if event == cv2.EVENT_LBUTTONDOWN:\n",
    "        drawing = True\n",
    "        ix, iy = x, y\n",
    "    elif event == cv2.EVENT_MOUSEMOVE and drawing == True:\n",
    "        cv2.rectangle(img,(ix, iy), (x, y), (0, 255, 0), -1)\n",
    "    elif event == cv2.EVENT_LBUTTONUP:\n",
    "        drawing = False\n",
    "        cv2.rectangle(img,(ix, iy), (x, y), (0, 255, 0), -1)\n",
    "        \n",
    "    \n",
    "    \n",
    "img = np.zeros((512,512,3))\n",
    "\n",
    "cv2.namedWindow(winname=\"m\")\n",
    "cv2.setMouseCallback(\"m\", draw_rectangle)\n",
    "while True:\n",
    "    cv2.imshow(\"m\", img)\n",
    "    if cv2.waitKey(1) & 0xff == 27:\n",
    "        break\n",
    "\n",
    "cv2.destroyAllWindows()"
   ]
  },
  {
   "cell_type": "code",
   "execution_count": 3,
   "metadata": {},
   "outputs": [],
   "source": []
  }
 ],
 "metadata": {
  "kernelspec": {
   "display_name": "Python 3",
   "language": "python",
   "name": "python3"
  },
  "language_info": {
   "codemirror_mode": {
    "name": "ipython",
    "version": 3
   },
   "file_extension": ".py",
   "mimetype": "text/x-python",
   "name": "python",
   "nbconvert_exporter": "python",
   "pygments_lexer": "ipython3",
   "version": "3.8.0"
  }
 },
 "nbformat": 4,
 "nbformat_minor": 4
}
